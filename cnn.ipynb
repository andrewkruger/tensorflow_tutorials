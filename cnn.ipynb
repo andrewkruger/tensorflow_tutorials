{
 "cells": [
  {
   "cell_type": "markdown",
   "metadata": {
    "colab_type": "text",
    "id": "hNt6jMw7lxzU"
   },
   "source": [
    "# Convolutional Neural Network\n",
    "\n",
    "We'll use the MNIST data set to test three convolutional neural networks, made with:\n",
    "1. Tensorflow\n",
    "2. Keras Sequential Model\n",
    "3. Keras Functional API\n",
    "\n",
    "## MNIST data\n",
    "\n",
    "Prepare the data:"
   ]
  },
  {
   "cell_type": "code",
   "execution_count": 1,
   "metadata": {
    "colab": {
     "base_uri": "https://localhost:8080/",
     "height": 383
    },
    "colab_type": "code",
    "id": "U5MTLD8slxzV",
    "outputId": "2480340b-6533-465a-ccd7-d3e4dfbcc7dd"
   },
   "outputs": [
    {
     "data": {
      "image/png": "[encoded data removed]",
      "text/plain": [
       "<Figure size 600x400 with 1 Axes>"
      ]
     },
     "metadata": {},
     "output_type": "display_data"
    }
   ],
   "source": [
    "import tensorflow as tf\n",
    "import numpy as np\n",
    "mnist = tf.keras.datasets.mnist\n",
    "\n",
    "(mnist_X_train, mnist_y_train),(mnist_X_test, mnist_y_test) = mnist.load_data()\n",
    "\n",
    "# Normalize and reshape images to [28,28,1]\n",
    "mnist_X_train  = np.expand_dims(mnist_X_train.astype(np.float32) / 255.0, axis=3)\n",
    "mnist_X_test = np.expand_dims(mnist_X_test.astype(np.float32) / 255.0, axis=3)\n",
    "\n",
    "# View a sample image\n",
    "import matplotlib.pyplot as plt\n",
    "%matplotlib inline\n",
    "\n",
    "plt.figure(dpi=100)\n",
    "plt.imshow(np.squeeze(mnist_X_train[0]), cmap='gray')\n",
    "plt.title('Number: {}'.format(str(mnist_y_train[0])))\n",
    "plt.show()\n"
   ]
  },
  {
   "cell_type": "markdown",
   "metadata": {
    "colab_type": "text",
    "id": "0wZHWNUwlxzb"
   },
   "source": [
    "The labels are numbers, so we need to convert to one-hot encoding."
   ]
  },
  {
   "cell_type": "code",
   "execution_count": 2,
   "metadata": {
    "colab": {},
    "colab_type": "code",
    "id": "aWJNpbUylxzc"
   },
   "outputs": [],
   "source": [
    "from sklearn.preprocessing import OneHotEncoder\n",
    "\n",
    "enc = OneHotEncoder(sparse=False, dtype=np.float32)\n",
    "mnist_y_train = enc.fit_transform(mnist_y_train.reshape(-1,1), y=range(10))\n",
    "mnist_y_test = enc.fit_transform(mnist_y_test.reshape(-1,1), y=range(10))\n"
   ]
  },
  {
   "cell_type": "markdown",
   "metadata": {
    "colab_type": "text",
    "id": "tVzA64g9lxze"
   },
   "source": [
    "## Tensorflow\n",
    "\n",
    "First, we'll create a CNN without keras.\n",
    "\n",
    "Let's start a tensorflow [session](https://www.tensorflow.org/api_docs/python/tf/Session).\n",
    "\n",
    "`A Session object encapsulates the environment in which Operation objects are executed, and Tensor objects are evaluated.`  Trained models need to be saved before closing a session.\n",
    "\n",
    "\n"
   ]
  },
  {
   "cell_type": "code",
   "execution_count": 3,
   "metadata": {
    "colab": {},
    "colab_type": "code",
    "id": "4fqSA4nTlxzf"
   },
   "outputs": [],
   "source": [
    "sess = tf.Session()"
   ]
  },
  {
   "cell_type": "markdown",
   "metadata": {
    "colab_type": "text",
    "id": "OQa59y6ulxz9"
   },
   "source": [
    "### Data Iterator\n",
    "\n",
    "We can create an iterator that returns batches of images and ground truths from the MNIST data."
   ]
  },
  {
   "cell_type": "code",
   "execution_count": 4,
   "metadata": {
    "colab": {
     "base_uri": "https://localhost:8080/",
     "height": 34
    },
    "colab_type": "code",
    "id": "_Qzu8uCElxz-",
    "outputId": "8a1ceac7-7d49-44bf-cfe1-20267a3f8540"
   },
   "outputs": [
    {
     "name": "stdout",
     "output_type": "stream",
     "text": [
      "(128, 28, 28, 1)\n"
     ]
    }
   ],
   "source": [
    "batch_size = 128\n",
    "dataset = tf.data.Dataset.from_tensor_slices((mnist_X_train,mnist_y_train)).repeat().batch(batch_size)\n",
    "iterator = dataset.make_initializable_iterator()\n",
    "data_batch = iterator.get_next()\n",
    "sess.run(iterator.initializer)\n",
    "\n",
    "batch_images, batch_labels = sess.run(data_batch)\n",
    "\n",
    "print(batch_images.shape)"
   ]
  },
  {
   "cell_type": "markdown",
   "metadata": {
    "colab_type": "text",
    "id": "K8cy3zuWlxzi"
   },
   "source": [
    "### Convolution\n",
    "\n",
    "Here we'll create a function to do a 2D convolution.\n",
    "\n",
    "A single layer follows the function $W*x+b$ where $x$ is the input to the layer, $W$ are the filter weights, and $b$ is the bias.  The convolution $W*x$ can be done with [tf.nn.conv2d](https://www.tensorflow.org/api_docs/python/tf/nn/conv2d) and the addition of the bias can be done with [tf.nn.bias_add](https://www.tensorflow.org/api_docs/python/tf/nn/bias_add) or [tf.add](https://www.tensorflow.org/api_docs/python/tf/math/add).\n",
    "\n",
    "We'll also use [tf.nn.relu](https://www.tensorflow.org/api_docs/python/tf/nn/relu) for the activation function in each layer. \n"
   ]
  },
  {
   "cell_type": "code",
   "execution_count": 5,
   "metadata": {
    "colab": {},
    "colab_type": "code",
    "id": "ZmcuHlkOlxzi"
   },
   "outputs": [],
   "source": [
    "#Define 2D convolutional function\n",
    "def conv2d(x, W, b, strides=1):\n",
    "    x = tf.nn.conv2d(x, W, strides=[1,1,1,1], padding='SAME')\n",
    "    x = tf.nn.bias_add(x, b)\n",
    "    return tf.nn.relu(x)\n"
   ]
  },
  {
   "cell_type": "markdown",
   "metadata": {
    "colab_type": "text",
    "id": "ZzxLwzJilxzl"
   },
   "source": [
    "### Weights\n",
    "\n",
    "Next, we can initialize the weights for the layers in a dictionary by using [tf.get_variable](https://www.tensorflow.org/api_docs/python/tf/get_variable).  Looking at the doc for [tf.nn.conv2d](https://www.tensorflow.org/api_docs/python/tf/nn/conv2d), each filter has the shape `[filter_height, filter_width, in_channels, out_channels]`.  \n",
    "\n",
    "The weights are initialized with [tf.contrib.layers.xavier_initializer](https://www.tensorflow.org/api_docs/python/tf/contrib/layers/xavier_initializer) from [Xavier Glorot and Yoshua Bengio (2010)](http://proceedings.mlr.press/v9/glorot10a/glorot10a.pdf).\n",
    "\n",
    "`This initializer is designed to keep the scale of the gradients roughly the same in all layers.`"
   ]
  },
  {
   "cell_type": "code",
   "execution_count": 6,
   "metadata": {
    "colab": {},
    "colab_type": "code",
    "id": "3JGNPay6lxzl"
   },
   "outputs": [],
   "source": [
    "n_classes = 10\n",
    "\n",
    "#Define Weights\n",
    "weights = {\n",
    "    # Convolution Layers\n",
    "    'c1': tf.get_variable('W0', shape=(3,3,1,16), initializer=tf.contrib.layers.xavier_initializer()), \n",
    "    'c2': tf.get_variable('W1', shape=(3,3,16,16), initializer=tf.contrib.layers.xavier_initializer()),\n",
    "    'c3': tf.get_variable('W2', shape=(3,3,16,32), initializer=tf.contrib.layers.xavier_initializer()),\n",
    "    'c4': tf.get_variable('W3', shape=(3,3,32,32), initializer=tf.contrib.layers.xavier_initializer()),\n",
    "    \n",
    "    # Dense Layers\n",
    "    'd1': tf.get_variable('W4', shape=(2*2*32,16), initializer=tf.contrib.layers.xavier_initializer()),\n",
    "    'out': tf.get_variable('W6', shape=(16,n_classes), initializer=tf.contrib.layers.xavier_initializer()),\n",
    "}\n",
    "\n",
    "biases = {\n",
    "    # Convolution Layers\n",
    "    'c1': tf.get_variable('B0', shape=(16), initializer=tf.contrib.layers.xavier_initializer()),\n",
    "    'c2': tf.get_variable('B1', shape=(16), initializer=tf.contrib.layers.xavier_initializer()),\n",
    "    'c3': tf.get_variable('B2', shape=(32), initializer=tf.contrib.layers.xavier_initializer()),\n",
    "    'c4': tf.get_variable('B3', shape=(32), initializer=tf.contrib.layers.xavier_initializer()),\n",
    "    \n",
    "    # Dense Layers\n",
    "    'd1': tf.get_variable('B4', shape=(16), initializer=tf.contrib.layers.xavier_initializer()),\n",
    "    'out': tf.get_variable('B5', shape=(n_classes), initializer=tf.contrib.layers.xavier_initializer()),\n",
    "}"
   ]
  },
  {
   "cell_type": "markdown",
   "metadata": {
    "colab_type": "text",
    "id": "psODXxGNlxzo"
   },
   "source": [
    "### Model\n",
    "Next we can create the model using these weights.  Each layer has the tensor shape shown.\n",
    "\n",
    "After each convolution layer, we can add a [max pooling layer](https://www.tensorflow.org/api_docs/python/tf/nn/max_pool).  `ksize` is the kernel size of the max pool and `strides` is the stride of the sliding window.  Since the stride size across the image is 2, the dimension is reduced by half.  For odd input sizes, the output shape is determined by the ceiling after dividing by 2 (e.g. 7/2 = 4).\n",
    "\n",
    "After the fourth convolution layer, the tensor is [reshaped](https://www.tensorflow.org/api_docs/python/tf/reshape) so it is flattened by before a fully connected layer.  The weights for the fully connected layer are not a convolution, but rather a [matrix multiplication](https://www.tensorflow.org/api_docs/python/tf/linalg/matmul).\n",
    "\n",
    "A [dropout](https://www.tensorflow.org/api_docs/python/tf/nn/dropout) is added, where the probability of keeping a weight is given.\n",
    "\n",
    "The output layer is another fully connected layer.  The activation for the output layer is not given yet."
   ]
  },
  {
   "cell_type": "code",
   "execution_count": 7,
   "metadata": {
    "colab": {},
    "colab_type": "code",
    "id": "biw-USmTlxzp"
   },
   "outputs": [],
   "source": [
    "def conv_net(data, weights, biases):\n",
    "    # Convolution layers\n",
    "    conv1 = conv2d(data, weights['c1'], biases['c1']) # [28,28,16]\n",
    "    conv1 = tf.nn.max_pool(conv1, ksize=[1,2,2,1], strides=[1,2,2,1], padding='SAME') # [14,14,16]\n",
    "\n",
    "    conv2 = conv2d(conv1, weights['c2'], biases['c2']) # [14,14,16]\n",
    "    conv2 = tf.nn.max_pool(conv2, ksize=[1,2,2,1], strides=[1,2,2,1], padding='SAME') # [7,7,16]\n",
    "\n",
    "    conv3 = conv2d(conv2, weights['c3'], biases['c3']) # [7,7,32]\n",
    "    conv3 = tf.nn.max_pool(conv3, ksize=[1,2,2,1], strides=[1,2,2,1], padding='SAME') # [4,4,32]\n",
    "\n",
    "    conv4 = conv2d(conv3, weights['c4'], biases['c4']) # [4,4,32]\n",
    "    conv4 = tf.nn.max_pool(conv4, ksize=[1,2,2,1], strides=[1,2,2,1], padding='SAME') # [2,2,32]\n",
    "\n",
    "    # Flatten\n",
    "    flat = tf.reshape(conv4, [-1, weights['d1'].get_shape().as_list()[0]]) # [2*2*32] = [128]\n",
    "\n",
    "    # Fully connected layer\n",
    "    fc1 = tf.add(tf.matmul(flat, weights['d1']), biases['d1']) # [16]\n",
    "    fc1 = tf.nn.relu(fc1) # [16]\n",
    "\n",
    "    # Dropout\n",
    "    keep_prob = 0.8\n",
    "    do1 = tf.nn.dropout(fc1, keep_prob)\n",
    "\n",
    "    # Output\n",
    "    out = tf.add(tf.matmul(do1, weights['out']), biases['out']) # [10]\n",
    "    return out\n"
   ]
  },
  {
   "cell_type": "markdown",
   "metadata": {
    "colab_type": "text",
    "id": "Fl1BQhE6lxzt"
   },
   "source": [
    "### Computational Graph\n",
    "\n",
    "Next we can construct a computational graph that will be used for training.  The graph determines how functions will interact in a session.\n",
    "\n",
    "Here we will initialize a model to be trained.  We can create a [placeholder](https://www.tensorflow.org/api_docs/python/tf/placeholder) for the training data that can be replaced with batches of data.  The shape of the placeholder is `[batch size, height, width, channels]`.  Having `None` as the shape for any dimension allows it to be variable.  Since the MNIST images are grayscale, they are single-channel."
   ]
  },
  {
   "cell_type": "code",
   "execution_count": 8,
   "metadata": {
    "colab": {},
    "colab_type": "code",
    "id": "BTHUaz4tlxzu"
   },
   "outputs": [],
   "source": [
    "Xtrain = tf.placeholder(tf.float32, shape=(None, 28, 28, 1))\n",
    "logits = conv_net(Xtrain, weights, biases)"
   ]
  },
  {
   "cell_type": "markdown",
   "metadata": {
    "colab_type": "text",
    "id": "0NrV-u81lxzw"
   },
   "source": [
    "#### Loss\n",
    "\n",
    "[tf.reduce_mean](https://www.tensorflow.org/api_docs/python/tf/math/reduce_mean) measures the mean of the elements in the tensor.  We can use it to find the mean [cross entropy of the logits](https://www.tensorflow.org/api_docs/python/tf/nn/softmax_cross_entropy_with_logits) from our model compared to the ground truth.  Our ground truth again depends on the batch, so we need a placeholder."
   ]
  },
  {
   "cell_type": "code",
   "execution_count": 9,
   "metadata": {
    "colab": {},
    "colab_type": "code",
    "id": "Uad0ygBKlxzy"
   },
   "outputs": [],
   "source": [
    "ytrain = tf.placeholder(tf.float32, shape=(None, n_classes))\n",
    "loss = tf.reduce_mean(tf.nn.softmax_cross_entropy_with_logits_v2(logits=logits, labels=ytrain))"
   ]
  },
  {
   "cell_type": "markdown",
   "metadata": {
    "colab_type": "text",
    "id": "EwnoNwJqlxz0"
   },
   "source": [
    "#### Optimizer\n",
    "\n",
    "Using the [Adam optimizer](https://www.tensorflow.org/api_docs/python/tf/train/AdamOptimizer) to minimize the loss."
   ]
  },
  {
   "cell_type": "code",
   "execution_count": 10,
   "metadata": {
    "colab": {},
    "colab_type": "code",
    "id": "S6y1wTSulxz1"
   },
   "outputs": [],
   "source": [
    "optimizer = tf.train.AdamOptimizer(1e-4)"
   ]
  },
  {
   "cell_type": "markdown",
   "metadata": {
    "colab_type": "text",
    "id": "IiO-kiv8lxz3"
   },
   "source": [
    "#### Training operation\n",
    "\n",
    "The training is done by using the optimizer to minimize the loss."
   ]
  },
  {
   "cell_type": "code",
   "execution_count": 11,
   "metadata": {
    "colab": {},
    "colab_type": "code",
    "id": "HEjCi91rlxz4"
   },
   "outputs": [],
   "source": [
    "train_op = optimizer.minimize(loss)"
   ]
  },
  {
   "cell_type": "markdown",
   "metadata": {
    "colab_type": "text",
    "id": "ea-WhoC3lxz7"
   },
   "source": [
    "#### Accuracy\n",
    "\n",
    "After each epoch, we can check the model accuracy by checking the percent correct predictions on the test set.  The predictions can be found by using the [softmax](https://www.tensorflow.org/api_docs/python/tf/nn/softmax) of the model output.  The predictions are one-hot encoded, so they need to be converted to the number labels by [argmax](https://www.tensorflow.org/api_docs/python/tf/math/argmax).\n",
    "\n",
    "The two outputs of [accuracy](https://www.tensorflow.org/api_docs/python/tf/metrics/accuracy):\n",
    "\n",
    "- `accuracy`: A Tensor representing the accuracy, the value of total divided by count.\n",
    "- `update_op`: An operation that increments the total and count variables appropriately and whose value matches accuracy"
   ]
  },
  {
   "cell_type": "code",
   "execution_count": 12,
   "metadata": {
    "colab": {},
    "colab_type": "code",
    "id": "3tNHRsphlxz8"
   },
   "outputs": [],
   "source": [
    "test_predictions = tf.nn.softmax(conv_net(mnist_X_test, weights, biases))\n",
    "acc,acc_op = tf.metrics.accuracy(predictions=tf.argmax(test_predictions,1), labels=tf.argmax(mnist_y_test,1))"
   ]
  },
  {
   "cell_type": "markdown",
   "metadata": {
    "colab_type": "text",
    "id": "Z3Kv83Yzlx0B"
   },
   "source": [
    "### Training\n",
    "\n",
    "#### Local and Global Variables\n",
    "The [local](https://www.tensorflow.org/api_docs/python/tf/initializers/local_variables) and [global](https://www.tensorflow.org/api_docs/python/tf/initializers/global_variables) variables created are first initialized so they can be used in the session.\n"
   ]
  },
  {
   "cell_type": "code",
   "execution_count": 13,
   "metadata": {
    "colab": {},
    "colab_type": "code",
    "id": "niD-UIf3lx0C"
   },
   "outputs": [],
   "source": [
    "sess.run(tf.global_variables_initializer())\n",
    "sess.run(tf.local_variables_initializer())"
   ]
  },
  {
   "cell_type": "markdown",
   "metadata": {
    "colab_type": "text",
    "id": "CTX5XdDFlx0F"
   },
   "source": [
    "\n",
    "#### Optimization\n",
    "\n",
    "For each batch, a new set of images `batch_data` and ground truths `batch_labels` are retrieved.  A dictinoary `feed_dict` is used to feed them into the placeholders `Xtrain` and `ytrain`, which are then used in the graph using `sess.run`.  By calling the `optimizer` in the `sess.run`, all steps used to make the graph up to it are ran as given above.\n",
    "\n",
    "#### Validation Accuracy\n",
    "\n",
    "The accuracy can be measured after each training epoch by running a session with `acc_op`.  "
   ]
  },
  {
   "cell_type": "code",
   "execution_count": 14,
   "metadata": {
    "colab": {
     "base_uri": "https://localhost:8080/",
     "height": 527
    },
    "colab_type": "code",
    "id": "kSXvMVa7lx0H",
    "outputId": "666292d9-8029-4b9b-fec8-541a5b942c8e"
   },
   "outputs": [
    {
     "name": "stderr",
     "output_type": "stream",
     "text": [
      "100%|██████████| 468/468 [00:21<00:00, 21.92it/s]\n",
      "  0%|          | 2/468 [00:00<00:26, 17.89it/s]"
     ]
    },
    {
     "name": "stdout",
     "output_type": "stream",
     "text": [
      "\n",
      "Epoch 1 Accuracy: 0.58259999752\n"
     ]
    },
    {
     "name": "stderr",
     "output_type": "stream",
     "text": [
      "100%|██████████| 468/468 [00:21<00:00, 21.60it/s]\n",
      "  0%|          | 2/468 [00:00<00:28, 16.27it/s]"
     ]
    },
    {
     "name": "stdout",
     "output_type": "stream",
     "text": [
      "\n",
      "Epoch 2 Accuracy: 0.667699992657\n"
     ]
    },
    {
     "name": "stderr",
     "output_type": "stream",
     "text": [
      "100%|██████████| 468/468 [00:22<00:00, 21.12it/s]\n",
      "  0%|          | 2/468 [00:00<00:26, 17.30it/s]"
     ]
    },
    {
     "name": "stdout",
     "output_type": "stream",
     "text": [
      "\n",
      "Epoch 3 Accuracy: 0.715833306313\n"
     ]
    },
    {
     "name": "stderr",
     "output_type": "stream",
     "text": [
      "100%|██████████| 468/468 [00:21<00:00, 19.36it/s]\n",
      "  0%|          | 2/468 [00:00<00:29, 15.63it/s]"
     ]
    },
    {
     "name": "stdout",
     "output_type": "stream",
     "text": [
      "\n",
      "Epoch 4 Accuracy: 0.749024987221\n"
     ]
    },
    {
     "name": "stderr",
     "output_type": "stream",
     "text": [
      "100%|██████████| 468/468 [00:22<00:00, 21.18it/s]\n",
      "  0%|          | 2/468 [00:00<00:27, 16.65it/s]"
     ]
    },
    {
     "name": "stdout",
     "output_type": "stream",
     "text": [
      "\n",
      "Epoch 5 Accuracy: 0.773239970207\n"
     ]
    },
    {
     "name": "stderr",
     "output_type": "stream",
     "text": [
      "100%|██████████| 468/468 [00:21<00:00, 21.81it/s]\n",
      "  0%|          | 2/468 [00:00<00:31, 15.03it/s]"
     ]
    },
    {
     "name": "stdout",
     "output_type": "stream",
     "text": [
      "\n",
      "Epoch 6 Accuracy: 0.791249990463\n"
     ]
    },
    {
     "name": "stderr",
     "output_type": "stream",
     "text": [
      "100%|██████████| 468/468 [00:21<00:00, 23.32it/s]\n",
      "  0%|          | 2/468 [00:00<00:25, 18.36it/s]"
     ]
    },
    {
     "name": "stdout",
     "output_type": "stream",
     "text": [
      "\n",
      "Epoch 7 Accuracy: 0.804899990559\n"
     ]
    },
    {
     "name": "stderr",
     "output_type": "stream",
     "text": [
      "100%|██████████| 468/468 [00:21<00:00, 21.33it/s]\n",
      "  0%|          | 2/468 [00:00<00:26, 17.68it/s]"
     ]
    },
    {
     "name": "stdout",
     "output_type": "stream",
     "text": [
      "\n",
      "Epoch 8 Accuracy: 0.816299974918\n"
     ]
    },
    {
     "name": "stderr",
     "output_type": "stream",
     "text": [
      "100%|██████████| 468/468 [00:21<00:00, 21.96it/s]\n",
      "  0%|          | 2/468 [00:00<00:26, 17.30it/s]"
     ]
    },
    {
     "name": "stdout",
     "output_type": "stream",
     "text": [
      "\n",
      "Epoch 9 Accuracy: 0.825944423676\n"
     ]
    },
    {
     "name": "stderr",
     "output_type": "stream",
     "text": [
      "100%|██████████| 468/468 [00:21<00:00, 21.96it/s]\n"
     ]
    },
    {
     "name": "stdout",
     "output_type": "stream",
     "text": [
      "\n",
      "Epoch 10 Accuracy: 0.834439992905\n"
     ]
    }
   ],
   "source": [
    "from tqdm import tqdm\n",
    "nepochs = 10\n",
    "    \n",
    "for epoch in range(nepochs):\n",
    "    for step in tqdm(range(int(len(mnist_X_train)/batch_size))):\n",
    "        \n",
    "        # Batched data\n",
    "        batch_images, batch_labels = sess.run(data_batch)\n",
    "\n",
    "        # Train model\n",
    "        feed_dict = {Xtrain: batch_images, ytrain: batch_labels}\n",
    "        sess.run(train_op, feed_dict=feed_dict)\n",
    "\n",
    "    # Test model\n",
    "    accuracy = sess.run(acc_op)\n",
    "    \n",
    "    print('\\nEpoch {} Accuracy: {}'.format(epoch+1, accuracy))\n"
   ]
  },
  {
   "cell_type": "markdown",
   "metadata": {
    "colab_type": "text",
    "id": "eaxyqnntuKkM"
   },
   "source": [
    "The train images were created this way to illustrate using `sess.run` and `feed_dict` . However, this could have been done more concisely by having the data generator as part of the graph, like shown here."
   ]
  },
  {
   "cell_type": "code",
   "execution_count": 15,
   "metadata": {
    "colab": {
     "base_uri": "https://localhost:8080/",
     "height": 527
    },
    "colab_type": "code",
    "id": "f8Y9v6IEt8rw",
    "outputId": "1ad5fbc4-347b-4e40-b842-3847595a2fba"
   },
   "outputs": [
    {
     "name": "stderr",
     "output_type": "stream",
     "text": [
      "100%|██████████| 468/468 [00:21<00:00, 21.75it/s]\n",
      "  0%|          | 2/468 [00:00<00:27, 16.89it/s]"
     ]
    },
    {
     "name": "stdout",
     "output_type": "stream",
     "text": [
      "\n",
      "Epoch 1 Accuracy: 0.440800011158\n"
     ]
    },
    {
     "name": "stderr",
     "output_type": "stream",
     "text": [
      "100%|██████████| 468/468 [00:21<00:00, 22.18it/s]\n",
      "  0%|          | 2/468 [00:00<00:24, 18.69it/s]"
     ]
    },
    {
     "name": "stdout",
     "output_type": "stream",
     "text": [
      "\n",
      "Epoch 2 Accuracy: 0.514549970627\n"
     ]
    },
    {
     "name": "stderr",
     "output_type": "stream",
     "text": [
      "100%|██████████| 468/468 [00:21<00:00, 21.60it/s]\n",
      "  0%|          | 2/468 [00:00<00:29, 15.89it/s]"
     ]
    },
    {
     "name": "stdout",
     "output_type": "stream",
     "text": [
      "\n",
      "Epoch 3 Accuracy: 0.589066684246\n"
     ]
    },
    {
     "name": "stderr",
     "output_type": "stream",
     "text": [
      "100%|██████████| 468/468 [00:21<00:00, 22.02it/s]\n",
      "  0%|          | 2/468 [00:00<00:24, 18.87it/s]"
     ]
    },
    {
     "name": "stdout",
     "output_type": "stream",
     "text": [
      "\n",
      "Epoch 4 Accuracy: 0.637175023556\n"
     ]
    },
    {
     "name": "stderr",
     "output_type": "stream",
     "text": [
      "100%|██████████| 468/468 [00:19<00:00, 23.52it/s]\n",
      "  0%|          | 2/468 [00:00<00:24, 18.69it/s]"
     ]
    },
    {
     "name": "stdout",
     "output_type": "stream",
     "text": [
      "\n",
      "Epoch 5 Accuracy: 0.671280026436\n"
     ]
    },
    {
     "name": "stderr",
     "output_type": "stream",
     "text": [
      "100%|██████████| 468/468 [00:19<00:00, 23.43it/s]\n",
      "  0%|          | 2/468 [00:00<00:24, 18.78it/s]"
     ]
    },
    {
     "name": "stdout",
     "output_type": "stream",
     "text": [
      "\n",
      "Epoch 6 Accuracy: 0.695649981499\n"
     ]
    },
    {
     "name": "stderr",
     "output_type": "stream",
     "text": [
      "100%|██████████| 468/468 [00:19<00:00, 23.61it/s]\n",
      "  0%|          | 2/468 [00:00<00:24, 18.76it/s]"
     ]
    },
    {
     "name": "stdout",
     "output_type": "stream",
     "text": [
      "\n",
      "Epoch 7 Accuracy: 0.71431428194\n"
     ]
    },
    {
     "name": "stderr",
     "output_type": "stream",
     "text": [
      "100%|██████████| 468/468 [00:19<00:00, 23.46it/s]\n",
      "  0%|          | 2/468 [00:00<00:24, 19.03it/s]"
     ]
    },
    {
     "name": "stdout",
     "output_type": "stream",
     "text": [
      "\n",
      "Epoch 8 Accuracy: 0.729324996471\n"
     ]
    },
    {
     "name": "stderr",
     "output_type": "stream",
     "text": [
      "100%|██████████| 468/468 [00:19<00:00, 23.50it/s]\n",
      "  0%|          | 2/468 [00:00<00:24, 18.86it/s]"
     ]
    },
    {
     "name": "stdout",
     "output_type": "stream",
     "text": [
      "\n",
      "Epoch 9 Accuracy: 0.742666661739\n"
     ]
    },
    {
     "name": "stderr",
     "output_type": "stream",
     "text": [
      "100%|██████████| 468/468 [00:19<00:00, 23.48it/s]\n"
     ]
    },
    {
     "name": "stdout",
     "output_type": "stream",
     "text": [
      "\n",
      "Epoch 10 Accuracy: 0.753189980984\n"
     ]
    }
   ],
   "source": [
    "batch_images, batch_labels = iterator.get_next()\n",
    "logits = conv_net(batch_images, weights, biases)\n",
    "loss = tf.reduce_mean(tf.nn.softmax_cross_entropy_with_logits_v2(logits=logits, labels=batch_labels))\n",
    "train_op = optimizer.minimize(loss)\n",
    "\n",
    "sess.run(tf.global_variables_initializer())\n",
    "sess.run(tf.local_variables_initializer())\n",
    "\n",
    "for epoch in range(nepochs):\n",
    "    for step in tqdm(range(int(len(mnist_X_train)/batch_size))):\n",
    "        \n",
    "        # Train model\n",
    "        sess.run(train_op)\n",
    "\n",
    "    # Test model\n",
    "    accuracy = sess.run(acc_op)\n",
    "    \n",
    "    print('\\nEpoch {} Accuracy: {}'.format(epoch+1, accuracy))\n"
   ]
  },
  {
   "cell_type": "markdown",
   "metadata": {
    "colab_type": "text",
    "id": "56vckbyWlx0L"
   },
   "source": [
    "#### Closing a Session\n",
    "\n",
    "The trained model needs to be [saved](https://www.tensorflow.org/api_docs/python/tf/train/Saver) before closing a session, or the model will be lost."
   ]
  },
  {
   "cell_type": "code",
   "execution_count": 16,
   "metadata": {
    "colab": {},
    "colab_type": "code",
    "id": "pDoE5AlVlx0M"
   },
   "outputs": [],
   "source": [
    "saver = tf.train.Saver() \n",
    "saver.save(sess, './filename.ckpt')\n",
    "\n",
    "sess.close()"
   ]
  },
  {
   "cell_type": "markdown",
   "metadata": {
    "colab_type": "text",
    "id": "ol-Zs4-vlx0O"
   },
   "source": [
    "#### Restoring a Model\n",
    "\n",
    "The model can be restored from the checkpoint by using a saver again."
   ]
  },
  {
   "cell_type": "code",
   "execution_count": 17,
   "metadata": {
    "colab": {
     "base_uri": "https://localhost:8080/",
     "height": 34
    },
    "colab_type": "code",
    "id": "8wWvWSt_lx0O",
    "outputId": "d625bb91-0bcc-4f73-f204-fd68a14740d9"
   },
   "outputs": [
    {
     "name": "stdout",
     "output_type": "stream",
     "text": [
      "INFO:tensorflow:Restoring parameters from filename.ckpt\n"
     ]
    }
   ],
   "source": [
    "sess = tf.Session()\n",
    "saver = tf.train.Saver()\n",
    "saver.restore(sess, 'filename.ckpt')\n"
   ]
  },
  {
   "cell_type": "markdown",
   "metadata": {
    "colab_type": "text",
    "id": "4xbmdiu5lx0R"
   },
   "source": [
    "### Predictions"
   ]
  },
  {
   "cell_type": "code",
   "execution_count": 18,
   "metadata": {
    "colab": {
     "base_uri": "https://localhost:8080/",
     "height": 1469
    },
    "colab_type": "code",
    "id": "y4w_L0rHlx0S",
    "outputId": "25521361-827e-4934-d3f3-df3e9f6a5039"
   },
   "outputs": [
    {
     "data": {
      "image/png": "[encoded data removed]",
      "text/plain": [
       "<Figure size 1800x1800 with 25 Axes>"
      ]
     },
     "metadata": {},
     "output_type": "display_data"
    }
   ],
   "source": [
    "onehot_predictions = sess.run(test_predictions)\n",
    "predictions = np.argmax(np.squeeze(onehot_predictions), axis=1)\n",
    "\n",
    "idx = 0\n",
    "f, axarr = plt.subplots(5, 5, figsize=(25,25))\n",
    "\n",
    "for i in range(5):\n",
    "    for j in range(5):\n",
    "        axarr[i,j].imshow(np.squeeze(mnist_X_test[idx]), cmap='gray')\n",
    "        axarr[i,j].set_title(str(predictions[idx]),fontsize=50)\n",
    "        idx += 5\n"
   ]
  },
  {
   "cell_type": "code",
   "execution_count": 19,
   "metadata": {
    "colab": {},
    "colab_type": "code",
    "id": "hYlBg8Dylx0U"
   },
   "outputs": [],
   "source": [
    "sess.close()"
   ]
  },
  {
   "cell_type": "markdown",
   "metadata": {
    "colab_type": "text",
    "id": "UGrpouUplx0Y"
   },
   "source": [
    "## Keras\n",
    "\n",
    "[Keras](https://keras.io/) can be used to develop models faster.  It's a higher-level implementation of tensorflow that allows for more compact code.\n",
    "\n",
    "Imports we'll use:"
   ]
  },
  {
   "cell_type": "code",
   "execution_count": 20,
   "metadata": {
    "colab": {
     "base_uri": "https://localhost:8080/",
     "height": 34
    },
    "colab_type": "code",
    "id": "FKSY0dmclx0Y",
    "outputId": "904f1d22-3308-446b-efb9-32415a941ae2"
   },
   "outputs": [
    {
     "name": "stderr",
     "output_type": "stream",
     "text": [
      "Using TensorFlow backend.\n"
     ]
    }
   ],
   "source": [
    "from keras.models import Sequential, Model\n",
    "from keras.layers import Dense, Activation, Dropout, Flatten\n",
    "from keras.layers import Conv2D, MaxPooling2D, Input\n",
    "from keras.optimizers import Adam\n"
   ]
  },
  {
   "cell_type": "markdown",
   "metadata": {
    "colab_type": "text",
    "id": "mB3R6AqLlx0c"
   },
   "source": [
    "## Sequential Model\n",
    "\n",
    "The first implementation of keras is with a [sequential model](https://keras.io/getting-started/sequential-model-guide/), which is only for linear stacks like the model we developed above.  Note that a tensorflow session is not needed.\n",
    "\n",
    "### Model\n"
   ]
  },
  {
   "cell_type": "code",
   "execution_count": 21,
   "metadata": {
    "colab": {},
    "colab_type": "code",
    "id": "6jNb53NJlx0d"
   },
   "outputs": [],
   "source": [
    "model = Sequential()"
   ]
  },
  {
   "cell_type": "markdown",
   "metadata": {
    "colab_type": "text",
    "id": "2z0CfrQClx0f"
   },
   "source": [
    "Layers can be added by calling `add`.  The following will create the same model as the tensorflow model above.  Note that the input to the Dropout layer is the drop probability (above, it was the keep probability)."
   ]
  },
  {
   "cell_type": "code",
   "execution_count": 22,
   "metadata": {
    "colab": {},
    "colab_type": "code",
    "id": "Qqx_nsghlx0f"
   },
   "outputs": [],
   "source": [
    "model.add(Conv2D(16, (3, 3), activation='relu', input_shape=(28, 28, 1), padding='same'))\n",
    "model.add(MaxPooling2D(pool_size=(2, 2), padding='same'))\n",
    "model.add(Conv2D(16, (3, 3), activation='relu', padding='same'))\n",
    "model.add(MaxPooling2D(pool_size=(2, 2), padding='same'))\n",
    "model.add(Conv2D(32, (3, 3), activation='relu', padding='same'))\n",
    "model.add(MaxPooling2D(pool_size=(2, 2), padding='same'))\n",
    "model.add(Conv2D(32, (3, 3), activation='relu', padding='same'))\n",
    "model.add(MaxPooling2D(pool_size=(2, 2), padding='same'))\n",
    "model.add(Flatten())\n",
    "model.add(Dense(16, activation='relu'))\n",
    "model.add(Dropout(0.2))\n",
    "model.add(Dense(n_classes, activation='softmax'))\n",
    "\n",
    "optimizer = Adam(lr=1e-4)"
   ]
  },
  {
   "cell_type": "markdown",
   "metadata": {
    "colab_type": "text",
    "id": "xt-jpUlwlx0i"
   },
   "source": [
    "After the model is designed, it is then [compiled](https://keras.io/getting-started/sequential-model-guide/#compilation)."
   ]
  },
  {
   "cell_type": "code",
   "execution_count": 23,
   "metadata": {
    "colab": {},
    "colab_type": "code",
    "id": "JcHh9WSOlx0i"
   },
   "outputs": [],
   "source": [
    "model.compile(loss='categorical_crossentropy',\n",
    "              optimizer=optimizer,\n",
    "              metrics=['accuracy'])"
   ]
  },
  {
   "cell_type": "markdown",
   "metadata": {
    "colab_type": "text",
    "id": "-ugKuJFIlx0l"
   },
   "source": [
    "The shapes of the weights in the layers are automatically calculated.  The CNN architecture can be viewed by calling a `summary`."
   ]
  },
  {
   "cell_type": "code",
   "execution_count": 24,
   "metadata": {
    "colab": {
     "base_uri": "https://localhost:8080/",
     "height": 544
    },
    "colab_type": "code",
    "id": "zuAvjzlNlx0l",
    "outputId": "8c8f8307-254f-4020-d0b5-31f771a28d34"
   },
   "outputs": [
    {
     "name": "stdout",
     "output_type": "stream",
     "text": [
      "_________________________________________________________________\n",
      "Layer (type)                 Output Shape              Param #   \n",
      "=================================================================\n",
      "conv2d_1 (Conv2D)            (None, 28, 28, 16)        160       \n",
      "_________________________________________________________________\n",
      "max_pooling2d_1 (MaxPooling2 (None, 14, 14, 16)        0         \n",
      "_________________________________________________________________\n",
      "conv2d_2 (Conv2D)            (None, 14, 14, 16)        2320      \n",
      "_________________________________________________________________\n",
      "max_pooling2d_2 (MaxPooling2 (None, 7, 7, 16)          0         \n",
      "_________________________________________________________________\n",
      "conv2d_3 (Conv2D)            (None, 7, 7, 32)          4640      \n",
      "_________________________________________________________________\n",
      "max_pooling2d_3 (MaxPooling2 (None, 4, 4, 32)          0         \n",
      "_________________________________________________________________\n",
      "conv2d_4 (Conv2D)            (None, 4, 4, 32)          9248      \n",
      "_________________________________________________________________\n",
      "max_pooling2d_4 (MaxPooling2 (None, 2, 2, 32)          0         \n",
      "_________________________________________________________________\n",
      "flatten_1 (Flatten)          (None, 128)               0         \n",
      "_________________________________________________________________\n",
      "dense_1 (Dense)              (None, 16)                2064      \n",
      "_________________________________________________________________\n",
      "dropout_1 (Dropout)          (None, 16)                0         \n",
      "_________________________________________________________________\n",
      "dense_2 (Dense)              (None, 10)                170       \n",
      "=================================================================\n",
      "Total params: 18,602\n",
      "Trainable params: 18,602\n",
      "Non-trainable params: 0\n",
      "_________________________________________________________________\n"
     ]
    }
   ],
   "source": [
    "model.summary()"
   ]
  },
  {
   "cell_type": "markdown",
   "metadata": {
    "colab_type": "text",
    "id": "-w-1Z4kplx0o"
   },
   "source": [
    "Now the model can be [fit](https://keras.io/models/model/#fit)."
   ]
  },
  {
   "cell_type": "code",
   "execution_count": 25,
   "metadata": {
    "colab": {
     "base_uri": "https://localhost:8080/",
     "height": 391
    },
    "colab_type": "code",
    "id": "uGBwTGdylx0o",
    "outputId": "2220e284-6034-4dee-d4c0-f7e0a41d1d50"
   },
   "outputs": [
    {
     "name": "stdout",
     "output_type": "stream",
     "text": [
      "Train on 60000 samples, validate on 10000 samples\n",
      "Epoch 1/10\n",
      "60000/60000 [==============================] - 18s 299us/step - loss: 1.7123 - acc: 0.4298 - val_loss: 0.8634 - val_acc: 0.7733\n",
      "Epoch 2/10\n",
      "60000/60000 [==============================] - 16s 266us/step - loss: 0.8123 - acc: 0.7400 - val_loss: 0.4338 - val_acc: 0.9081\n",
      "Epoch 3/10\n",
      "60000/60000 [==============================] - 16s 263us/step - loss: 0.5708 - acc: 0.8175 - val_loss: 0.2820 - val_acc: 0.9345\n",
      "Epoch 4/10\n",
      "60000/60000 [==============================] - 16s 260us/step - loss: 0.4524 - acc: 0.8552 - val_loss: 0.2277 - val_acc: 0.9453\n",
      "Epoch 5/10\n",
      "60000/60000 [==============================] - 17s 276us/step - loss: 0.3774 - acc: 0.8813 - val_loss: 0.1794 - val_acc: 0.9552\n",
      "Epoch 6/10\n",
      "60000/60000 [==============================] - 16s 272us/step - loss: 0.3372 - acc: 0.8940 - val_loss: 0.1544 - val_acc: 0.9578\n",
      "Epoch 7/10\n",
      "60000/60000 [==============================] - 16s 273us/step - loss: 0.3042 - acc: 0.9049 - val_loss: 0.1385 - val_acc: 0.9616\n",
      "Epoch 8/10\n",
      "60000/60000 [==============================] - 16s 272us/step - loss: 0.2845 - acc: 0.9117 - val_loss: 0.1464 - val_acc: 0.9581\n",
      "Epoch 9/10\n",
      "60000/60000 [==============================] - 16s 273us/step - loss: 0.2668 - acc: 0.9198 - val_loss: 0.1171 - val_acc: 0.9660\n",
      "Epoch 10/10\n",
      "60000/60000 [==============================] - 17s 280us/step - loss: 0.2490 - acc: 0.9241 - val_loss: 0.1197 - val_acc: 0.9662\n"
     ]
    },
    {
     "data": {
      "text/plain": [
       "<keras.callbacks.History at 0x145f05ed0>"
      ]
     },
     "execution_count": 25,
     "metadata": {},
     "output_type": "execute_result"
    }
   ],
   "source": [
    "model.fit(mnist_X_train, mnist_y_train,\n",
    "          epochs=nepochs,\n",
    "          batch_size=batch_size,\n",
    "        validation_data=(mnist_X_test, mnist_y_test))"
   ]
  },
  {
   "cell_type": "markdown",
   "metadata": {
    "colab_type": "text",
    "id": "A-bvJZ-glx0q"
   },
   "source": [
    "Finally, predictions can be shown."
   ]
  },
  {
   "cell_type": "code",
   "execution_count": 26,
   "metadata": {
    "colab": {
     "base_uri": "https://localhost:8080/",
     "height": 1469
    },
    "colab_type": "code",
    "id": "Jlj_-BW1lx0r",
    "outputId": "f1a62b9b-6747-47cd-b885-d73ed1639713"
   },
   "outputs": [
    {
     "data": {
      "image/png": "[encoded data removed]",
      "text/plain": [
       "<Figure size 1800x1800 with 25 Axes>"
      ]
     },
     "metadata": {},
     "output_type": "display_data"
    }
   ],
   "source": [
    "predictions = model.predict(mnist_X_test, batch_size=None, verbose=0, steps=None)\n",
    "predictions = np.argmax(predictions, axis=1)\n",
    "\n",
    "idx = 0\n",
    "f, axarr = plt.subplots(5, 5, figsize=(25,25))\n",
    "\n",
    "for i in range(5):\n",
    "    for j in range(5):\n",
    "        axarr[i,j].imshow(np.squeeze(mnist_X_test[idx]), cmap='gray')\n",
    "        axarr[i,j].set_title(str(predictions[idx]),fontsize=50)\n",
    "        idx += 5\n"
   ]
  },
  {
   "cell_type": "markdown",
   "metadata": {},
   "source": [
    "The layers of a sequential model could also be input to the model as a list."
   ]
  },
  {
   "cell_type": "code",
   "execution_count": 27,
   "metadata": {},
   "outputs": [
    {
     "name": "stdout",
     "output_type": "stream",
     "text": [
      "_________________________________________________________________\n",
      "Layer (type)                 Output Shape              Param #   \n",
      "=================================================================\n",
      "conv2d_5 (Conv2D)            (None, 28, 28, 16)        160       \n",
      "_________________________________________________________________\n",
      "max_pooling2d_5 (MaxPooling2 (None, 14, 14, 16)        0         \n",
      "_________________________________________________________________\n",
      "conv2d_6 (Conv2D)            (None, 14, 14, 16)        2320      \n",
      "_________________________________________________________________\n",
      "max_pooling2d_6 (MaxPooling2 (None, 7, 7, 16)          0         \n",
      "_________________________________________________________________\n",
      "conv2d_7 (Conv2D)            (None, 7, 7, 32)          4640      \n",
      "_________________________________________________________________\n",
      "max_pooling2d_7 (MaxPooling2 (None, 4, 4, 32)          0         \n",
      "_________________________________________________________________\n",
      "conv2d_8 (Conv2D)            (None, 4, 4, 32)          9248      \n",
      "_________________________________________________________________\n",
      "max_pooling2d_8 (MaxPooling2 (None, 2, 2, 32)          0         \n",
      "_________________________________________________________________\n",
      "flatten_2 (Flatten)          (None, 128)               0         \n",
      "_________________________________________________________________\n",
      "dense_3 (Dense)              (None, 16)                2064      \n",
      "_________________________________________________________________\n",
      "dropout_2 (Dropout)          (None, 16)                0         \n",
      "_________________________________________________________________\n",
      "dense_4 (Dense)              (None, 10)                170       \n",
      "=================================================================\n",
      "Total params: 18,602\n",
      "Trainable params: 18,602\n",
      "Non-trainable params: 0\n",
      "_________________________________________________________________\n"
     ]
    }
   ],
   "source": [
    "layers = [Conv2D(16, (3, 3), activation='relu', input_shape=(28, 28, 1), padding='same'),\n",
    "        MaxPooling2D(pool_size=(2, 2), padding='same'),\n",
    "        Conv2D(16, (3, 3), activation='relu', padding='same'),\n",
    "        MaxPooling2D(pool_size=(2, 2), padding='same'),\n",
    "        Conv2D(32, (3, 3), activation='relu', padding='same'),\n",
    "        MaxPooling2D(pool_size=(2, 2), padding='same'),\n",
    "        Conv2D(32, (3, 3), activation='relu', padding='same'),\n",
    "        MaxPooling2D(pool_size=(2, 2), padding='same'),\n",
    "        Flatten(),\n",
    "        Dense(16, activation='relu'),\n",
    "        Dropout(0.2),\n",
    "        Dense(n_classes, activation='softmax')]\n",
    "\n",
    "model = Sequential(layers)\n",
    "\n",
    "optimizer = Adam(lr=1e-4)\n",
    "model.compile(loss='categorical_crossentropy',\n",
    "              optimizer=optimizer,\n",
    "              metrics=['accuracy'])\n",
    "\n",
    "model.summary()"
   ]
  },
  {
   "cell_type": "markdown",
   "metadata": {
    "colab_type": "text",
    "id": "kFT2Dffclx0t"
   },
   "source": [
    "## Functional API\n",
    "\n",
    "The [Keras Functional API](https://keras.io/getting-started/functional-api-guide/) allows for complex models with features such as multi-input/output and shared layers.\n",
    "\n",
    "Instead of adding layers, layers are used as input to proceeding layers."
   ]
  },
  {
   "cell_type": "code",
   "execution_count": 28,
   "metadata": {
    "colab": {},
    "colab_type": "code",
    "id": "0PAo10rElx0u"
   },
   "outputs": [],
   "source": [
    "inputs = Input(shape=(28,28,1))\n",
    "x = Conv2D(16, (3, 3), activation='relu', padding='same')(inputs)\n",
    "x = MaxPooling2D(pool_size=(2, 2), padding='same')(x)\n",
    "x = Conv2D(16, (3, 3), activation='relu', padding='same')(x)\n",
    "x = MaxPooling2D(pool_size=(2, 2), padding='same')(x)\n",
    "x = Conv2D(32, (3, 3), activation='relu', padding='same')(x)\n",
    "x = MaxPooling2D(pool_size=(2, 2), padding='same')(x)\n",
    "x = Conv2D(32, (3, 3), activation='relu', padding='same')(x)\n",
    "x = MaxPooling2D(pool_size=(2, 2), padding='same')(x)\n",
    "x = Flatten()(x)\n",
    "x = Dense(16, activation='relu')(x)\n",
    "x = Dropout(0.2)(x)\n",
    "predictions = Dense(n_classes, activation='softmax')(x)\n",
    "\n",
    "optimizer = Adam(lr=1e-4)\n",
    "model.compile(loss='categorical_crossentropy',\n",
    "              optimizer=optimizer,\n",
    "              metrics=['accuracy'])"
   ]
  },
  {
   "cell_type": "markdown",
   "metadata": {
    "colab_type": "text",
    "id": "V4Gbonzelx0v"
   },
   "source": [
    "Once the architecture is designed, the input and output layers are used to make a [Model object](https://keras.io/models/model/)."
   ]
  },
  {
   "cell_type": "code",
   "execution_count": 29,
   "metadata": {
    "colab": {
     "base_uri": "https://localhost:8080/",
     "height": 391
    },
    "colab_type": "code",
    "id": "u5CKwqQwlx0v",
    "outputId": "aa02eac8-8c59-494c-924c-0f4b4ab5f847"
   },
   "outputs": [
    {
     "name": "stdout",
     "output_type": "stream",
     "text": [
      "Train on 60000 samples, validate on 10000 samples\n",
      "Epoch 1/10\n",
      "60000/60000 [==============================] - 20s 341us/step - loss: 1.7261 - acc: 0.4468 - val_loss: 0.8393 - val_acc: 0.7837\n",
      "Epoch 2/10\n",
      "60000/60000 [==============================] - 17s 275us/step - loss: 0.7945 - acc: 0.7307 - val_loss: 0.4588 - val_acc: 0.8409\n",
      "Epoch 3/10\n",
      "60000/60000 [==============================] - 17s 290us/step - loss: 0.5917 - acc: 0.7798 - val_loss: 0.3423 - val_acc: 0.8880\n",
      "Epoch 4/10\n",
      "60000/60000 [==============================] - 17s 291us/step - loss: 0.4888 - acc: 0.8331 - val_loss: 0.2506 - val_acc: 0.9375\n",
      "Epoch 5/10\n",
      "60000/60000 [==============================] - 18s 292us/step - loss: 0.4201 - acc: 0.8660 - val_loss: 0.2020 - val_acc: 0.9479\n",
      "Epoch 6/10\n",
      "60000/60000 [==============================] - 17s 291us/step - loss: 0.3802 - acc: 0.8810 - val_loss: 0.1878 - val_acc: 0.9516\n",
      "Epoch 7/10\n",
      "60000/60000 [==============================] - 18s 292us/step - loss: 0.3544 - acc: 0.8892 - val_loss: 0.1561 - val_acc: 0.9584\n",
      "Epoch 8/10\n",
      "60000/60000 [==============================] - 18s 292us/step - loss: 0.3296 - acc: 0.8986 - val_loss: 0.1506 - val_acc: 0.9571\n",
      "Epoch 9/10\n",
      "60000/60000 [==============================] - 17s 283us/step - loss: 0.3090 - acc: 0.9061 - val_loss: 0.1403 - val_acc: 0.9611\n",
      "Epoch 10/10\n",
      "60000/60000 [==============================] - 19s 312us/step - loss: 0.2959 - acc: 0.9084 - val_loss: 0.1260 - val_acc: 0.9638\n"
     ]
    },
    {
     "data": {
      "text/plain": [
       "<keras.callbacks.History at 0x1419751d0>"
      ]
     },
     "execution_count": 29,
     "metadata": {},
     "output_type": "execute_result"
    }
   ],
   "source": [
    "model = Model(inputs=inputs, outputs=predictions)\n",
    "\n",
    "model.compile(loss='categorical_crossentropy',\n",
    "              optimizer=optimizer,\n",
    "              metrics=['accuracy'])\n",
    "\n",
    "\n",
    "model.fit(mnist_X_train, mnist_y_train,\n",
    "          epochs=nepochs,\n",
    "          batch_size=batch_size,\n",
    "          validation_data=(mnist_X_test, mnist_y_test))\n"
   ]
  },
  {
   "cell_type": "markdown",
   "metadata": {
    "colab_type": "text",
    "id": "x0FP4Y3plx0y"
   },
   "source": [
    "Predictions:"
   ]
  },
  {
   "cell_type": "code",
   "execution_count": 30,
   "metadata": {
    "colab": {
     "base_uri": "https://localhost:8080/",
     "height": 1469
    },
    "colab_type": "code",
    "id": "O8zbsXAglx0y",
    "outputId": "2eed1af4-5826-49c0-9f9b-95c46f53bb64"
   },
   "outputs": [
    {
     "data": {
      "image/png": "[encoded data removed]",
      "text/plain": [
       "<Figure size 1800x1800 with 25 Axes>"
      ]
     },
     "metadata": {},
     "output_type": "display_data"
    }
   ],
   "source": [
    "predictions = model.predict(mnist_X_test, batch_size=None, verbose=0, steps=None)\n",
    "predictions = np.argmax(predictions, axis=1)\n",
    "\n",
    "\n",
    "idx = 0\n",
    "f, axarr = plt.subplots(5, 5, figsize=(25,25))\n",
    "\n",
    "for i in range(5):\n",
    "    for j in range(5):\n",
    "        axarr[i,j].imshow(np.squeeze(mnist_X_test[idx]), cmap='gray')\n",
    "        axarr[i,j].set_title(str(predictions[idx]),fontsize=50)\n",
    "        idx += 5\n"
   ]
  }
 ],
 "metadata": {
  "accelerator": "GPU",
  "colab": {
   "collapsed_sections": [],
   "name": "CNN Lab.ipynb",
   "provenance": [],
   "version": "0.3.2"
  },
  "kernelspec": {
   "display_name": "Python 2",
   "language": "python",
   "name": "python2"
  },
  "language_info": {
   "codemirror_mode": {
    "name": "ipython",
    "version": 2
   },
   "file_extension": ".py",
   "mimetype": "text/x-python",
   "name": "python",
   "nbconvert_exporter": "python",
   "pygments_lexer": "ipython2",
   "version": "2.7.15"
  }
 },
 "nbformat": 4,
 "nbformat_minor": 1
}
